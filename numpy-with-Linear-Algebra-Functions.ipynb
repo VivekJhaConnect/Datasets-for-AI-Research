{
 "cells": [
  {
   "cell_type": "code",
   "execution_count": 15,
   "metadata": {},
   "outputs": [],
   "source": [
    "import numpy as np\n",
    "from numpy import linalg as LA"
   ]
  },
  {
   "cell_type": "code",
   "execution_count": 16,
   "metadata": {},
   "outputs": [],
   "source": [
    "arr_1 = np.array([[5,6],[7,8]])\n",
    "arr_2 = np.array([[1,2],[3,4]])\n",
    "arr_3 = np.array([[2,4],[6,9]])"
   ]
  },
  {
   "cell_type": "code",
   "execution_count": 17,
   "metadata": {},
   "outputs": [
    {
     "data": {
      "text/plain": [
       "array([[250, 398],\n",
       "       [338, 538]])"
      ]
     },
     "execution_count": 17,
     "metadata": {},
     "output_type": "execute_result"
    }
   ],
   "source": [
    "# Matrix multiplication with Dot Product\n",
    "# (1 * 2) + (2 * 6) = 14 [0,0]\n",
    "# (1 * 4) + (2 * 9) = 22 [0,1]\n",
    "# (3 * 2) + (4 * 6) = 30 [1,0]\n",
    "# (3 * 4) + (4 * 9) = 12 + 36 = 48 [1,1]\n",
    "np.dot(arr_2, arr_3)\n",
    "# if we need to perform dot product on multiple array\n",
    "LA.multi_dot([arr_1, arr_2, arr_3])"
   ]
  },
  {
   "cell_type": "code",
   "execution_count": 18,
   "metadata": {},
   "outputs": [
    {
     "data": {
      "text/plain": [
       "array([[17, 39],\n",
       "       [23, 53]])"
      ]
     },
     "execution_count": 18,
     "metadata": {},
     "output_type": "execute_result"
    }
   ],
   "source": [
    "# Matrix multiplication with Inner Product\n",
    "# (1 * 2) + (2 * 4) = 10 [0,0]\n",
    "# (1 * 6) + (2 * 9) = 24 [0,1]\n",
    "# (3 * 2) + (4 * 4) = 22 [1,0]\n",
    "# (3 * 6) + (4 * 9) = 54 [1,1]\n",
    "np.inner(arr_1, arr_2)"
   ]
  },
  {
   "cell_type": "code",
   "execution_count": 19,
   "metadata": {},
   "outputs": [
    {
     "data": {
      "text/plain": [
       "array([30, 70], dtype=object)"
      ]
     },
     "execution_count": 19,
     "metadata": {},
     "output_type": "execute_result"
    }
   ],
   "source": [
    "# Matrix multiplication with Tensor Dot Product\n",
    "# (1 * 1) + (2 * 1) + (3 * 3) + (4 * 4) = 30 [0,0]\n",
    "# (5 * 1) + (6 * 2) + (7 * 3) + (8 * 4) = \n",
    "\n",
    "arr_4 = np.array([[[1,2],[3,4]],[[5,6],[7,8]]])\n",
    "arr_5 = np.array([[1,2],[3,4]], dtype=object)\n",
    "np.tensordot(arr_4, arr_5)"
   ]
  },
  {
   "cell_type": "code",
   "execution_count": 20,
   "metadata": {},
   "outputs": [
    {
     "data": {
      "text/plain": [
       "array([ 0, 22])"
      ]
     },
     "execution_count": 20,
     "metadata": {},
     "output_type": "execute_result"
    }
   ],
   "source": [
    "#Einstein Summation: Provides many ways to perform\n",
    "# operations on multiple arrays\n",
    "\n",
    "arr_6 = np.array([0,1])\n",
    "arr_7 = np.array([[0,1,2,3],[4,5,6,7]])\n",
    "\n",
    "#'i,ij->i'\n",
    "\n",
    "\n",
    "np.einsum('i,ij->i', arr_6, arr_7)"
   ]
  },
  {
   "cell_type": "code",
   "execution_count": 21,
   "metadata": {},
   "outputs": [
    {
     "data": {
      "text/plain": [
       "array([[7, 10],\n",
       "       [15, 22]], dtype=object)"
      ]
     },
     "execution_count": 21,
     "metadata": {},
     "output_type": "execute_result"
    }
   ],
   "source": [
    "# Raise matrix to the power of n\n",
    "# Given [[a,b], [c,d]]\n",
    "# [[a^2 + bc, ab + db], [ac + dc, d^2 + bc]]\n",
    "\n",
    "LA.matrix_power(arr_5, 2)"
   ]
  },
  {
   "cell_type": "code",
   "execution_count": 22,
   "metadata": {},
   "outputs": [
    {
     "data": {
      "text/plain": [
       "array([[0, 1, 0, 2],\n",
       "       [0, 3, 0, 4]], dtype=object)"
      ]
     },
     "execution_count": 22,
     "metadata": {},
     "output_type": "execute_result"
    }
   ],
   "source": [
    "# Kronecker product of 2 arrays\n",
    "# Given [[a,b], [c,d]], [[e,f], [g, h]]\n",
    "# [[a*e, a*f, b*e, b*f], [a*g, a*h, b*g, b*h], ...]\n",
    "\n",
    "np.kron(arr_5, arr_6)"
   ]
  },
  {
   "cell_type": "code",
   "execution_count": 27,
   "metadata": {},
   "outputs": [
    {
     "data": {
      "text/plain": [
       "array([[-0.37228132,  5.37228132],\n",
       "       [-0.15206735, 13.15206735]])"
      ]
     },
     "execution_count": 27,
     "metadata": {},
     "output_type": "execute_result"
    }
   ],
   "source": [
    "# Compute eigenvalues\n",
    "LA.eig(arr_4)\n",
    "\n",
    "LA.eigvals(arr_4)"
   ]
  },
  {
   "cell_type": "code",
   "execution_count": 28,
   "metadata": {},
   "outputs": [
    {
     "data": {
      "text/plain": [
       "5.477225575051661"
      ]
     },
     "execution_count": 28,
     "metadata": {},
     "output_type": "execute_result"
    }
   ],
   "source": [
    "# Gen Vector Norm sqrt(sum(X**2))\n",
    "\n",
    "LA.norm(arr_5)"
   ]
  },
  {
   "cell_type": "code",
   "execution_count": 30,
   "metadata": {},
   "outputs": [
    {
     "data": {
      "text/plain": [
       "array([[[-2. ,  1. ],\n",
       "        [ 1.5, -0.5]],\n",
       "\n",
       "       [[-4. ,  3. ],\n",
       "        [ 3.5, -2.5]]])"
      ]
     },
     "execution_count": 30,
     "metadata": {},
     "output_type": "execute_result"
    }
   ],
   "source": [
    "# Get Multiplicative Inverse of a matrix\n",
    "LA.inv(arr_4)"
   ]
  },
  {
   "cell_type": "code",
   "execution_count": 31,
   "metadata": {},
   "outputs": [
    {
     "data": {
      "text/plain": [
       "array([14.93303437, 86.98850423])"
      ]
     },
     "execution_count": 31,
     "metadata": {},
     "output_type": "execute_result"
    }
   ],
   "source": [
    "# Get Condition Number matrics\n",
    "LA.cond(arr_4)"
   ]
  },
  {
   "cell_type": "code",
   "execution_count": 36,
   "metadata": {},
   "outputs": [
    {
     "data": {
      "text/plain": [
       "-2.0000000000000004"
      ]
     },
     "execution_count": 36,
     "metadata": {},
     "output_type": "execute_result"
    }
   ],
   "source": [
    "# Determinates are used to compute values, area, to solve systems\n",
    "# of equations and more. It is a way you \n",
    "# matrix to get 1 number.\n",
    "# For a matrix to have an inverse its determinate must not equal 0\n",
    "# det([[a,b],[c,d]]) = a*d - b*c\n",
    "\n",
    "arr_8 = np.array([[1,2],[3,4]])\n",
    "LA.det(arr_8) # 1*4 - 2*3 = -2\n"
   ]
  },
  {
   "cell_type": "code",
   "execution_count": 38,
   "metadata": {},
   "outputs": [
    {
     "data": {
      "text/plain": [
       "array([[1.0000000e+00, 0.0000000e+00],\n",
       "       [8.8817842e-16, 1.0000000e+00]])"
      ]
     },
     "execution_count": 38,
     "metadata": {},
     "output_type": "execute_result"
    }
   ],
   "source": [
    "# Determinate of 3x3 Matrix\n",
    "# def([[a,b,c], [d,e,f], [g,h,i]]) = a*e*i - b*d*i + c*d*h\n",
    "# -a*f*h + b*f*g - c*e*g\n",
    "\n",
    "arr_8_i = LA.inv(arr_8)\n",
    "arr_8_i\n",
    "np.dot(arr_8, arr_8_i)"
   ]
  },
  {
   "cell_type": "code",
   "execution_count": 40,
   "metadata": {},
   "outputs": [
    {
     "data": {
      "text/plain": [
       "array([-2.,  3.])"
      ]
     },
     "execution_count": 40,
     "metadata": {},
     "output_type": "execute_result"
    }
   ],
   "source": [
    "# Solving systems of Linear Equations\n",
    "# If you have 3X + 5 = 9X -> 5 = 6X -> x = 5/6\n",
    "# If you have x + 4y = 10 & 6x + 18y = 42\n",
    "# Isolate x -> x =10 -4Y\n",
    "# 6(10 - 4y) + 18y = 42 -> 60 - 24y + 18y = 42 -> -6y = -18 -> y =3\n",
    "# x + 4*3 = 10 -> x = -2\n",
    "\n",
    "arr_9 = np.array([[1,4], [6, 18]])\n",
    "arr_10 = np.array([10,42])\n",
    "LA.solve(arr_9, arr_10)"
   ]
  },
  {
   "cell_type": "code",
   "execution_count": 41,
   "metadata": {},
   "outputs": [
    {
     "data": {
      "text/plain": [
       "array([[1, 0],\n",
       "       [0, 1]])"
      ]
     },
     "execution_count": 41,
     "metadata": {},
     "output_type": "execute_result"
    }
   ],
   "source": [
    "# Return a identity matrix with defined number of rows and columns\n",
    "\n",
    "np.eye(2,2, dtype=int)"
   ]
  }
 ],
 "metadata": {
  "kernelspec": {
   "display_name": "env",
   "language": "python",
   "name": "python3"
  },
  "language_info": {
   "codemirror_mode": {
    "name": "ipython",
    "version": 3
   },
   "file_extension": ".py",
   "mimetype": "text/x-python",
   "name": "python",
   "nbconvert_exporter": "python",
   "pygments_lexer": "ipython3",
   "version": "3.10.10"
  }
 },
 "nbformat": 4,
 "nbformat_minor": 2
}
