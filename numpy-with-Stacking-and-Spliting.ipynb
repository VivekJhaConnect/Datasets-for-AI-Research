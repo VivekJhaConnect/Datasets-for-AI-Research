{
 "cells": [
  {
   "cell_type": "code",
   "execution_count": 1,
   "metadata": {},
   "outputs": [],
   "source": [
    "import numpy as np"
   ]
  },
  {
   "cell_type": "code",
   "execution_count": 5,
   "metadata": {},
   "outputs": [
    {
     "name": "stdout",
     "output_type": "stream",
     "text": [
      "ss_arr_1:\n",
      " [[1 4]\n",
      " [9 5]]\n",
      "ss_arr_2:\n",
      " [[1 9]\n",
      " [5 4]]\n"
     ]
    }
   ],
   "source": [
    "ss_arr_1 = np.random.randint(10, size=(2, 2))\n",
    "print(f\"ss_arr_1:\\n {ss_arr_1}\")\n",
    "ss_arr_2 = np.random.randint(10, size=(2, 2))\n",
    "print(f\"ss_arr_2:\\n {ss_arr_2}\")"
   ]
  },
  {
   "cell_type": "code",
   "execution_count": 6,
   "metadata": {},
   "outputs": [
    {
     "data": {
      "text/plain": [
       "array([[1, 4],\n",
       "       [9, 5],\n",
       "       [1, 9],\n",
       "       [5, 4]])"
      ]
     },
     "execution_count": 6,
     "metadata": {},
     "output_type": "execute_result"
    }
   ],
   "source": [
    "np.vstack((ss_arr_1, ss_arr_2))"
   ]
  },
  {
   "cell_type": "code",
   "execution_count": 7,
   "metadata": {},
   "outputs": [
    {
     "data": {
      "text/plain": [
       "array([[1, 4, 1, 9],\n",
       "       [9, 5, 5, 4]])"
      ]
     },
     "execution_count": 7,
     "metadata": {},
     "output_type": "execute_result"
    }
   ],
   "source": [
    "np.hstack((ss_arr_1, ss_arr_2))"
   ]
  },
  {
   "cell_type": "code",
   "execution_count": 9,
   "metadata": {},
   "outputs": [
    {
     "name": "stdout",
     "output_type": "stream",
     "text": [
      "Deleting ss_arr_3 Array : \n",
      " [[1 4]]\n",
      "Deleting ss_arr_4 Array : \n",
      " [[1 9]]\n"
     ]
    }
   ],
   "source": [
    "# Deleting data into the array\n",
    "ss_arr_3 = np.delete(ss_arr_1, 1, 0)\n",
    "print(f\"Deleting ss_arr_3 Array : \\n {ss_arr_3}\")\n",
    "ss_arr_4 = np.delete(ss_arr_2, 1, 0)\n",
    "print(f\"Deleting ss_arr_4 Array : \\n {ss_arr_4}\")"
   ]
  },
  {
   "cell_type": "code",
   "execution_count": 11,
   "metadata": {},
   "outputs": [
    {
     "data": {
      "text/plain": [
       "array([[1, 4, 1, 9]])"
      ]
     },
     "execution_count": 11,
     "metadata": {},
     "output_type": "execute_result"
    }
   ],
   "source": [
    "# Column Stack\n",
    "np.column_stack((ss_arr_3, ss_arr_4))"
   ]
  },
  {
   "cell_type": "code",
   "execution_count": 12,
   "metadata": {},
   "outputs": [
    {
     "data": {
      "text/plain": [
       "array([[1, 4],\n",
       "       [1, 9]])"
      ]
     },
     "execution_count": 12,
     "metadata": {},
     "output_type": "execute_result"
    }
   ],
   "source": [
    "# Row Stack\n",
    "np.row_stack((ss_arr_3, ss_arr_4))"
   ]
  },
  {
   "cell_type": "code",
   "execution_count": 14,
   "metadata": {},
   "outputs": [
    {
     "name": "stdout",
     "output_type": "stream",
     "text": [
      "ss_arr_5:\n",
      " [[7 4 8 6 3 2 2 9 4 6]\n",
      " [2 8 0 7 5 8 5 4 2 4]]\n"
     ]
    },
    {
     "data": {
      "text/plain": [
       "[array([[7, 4],\n",
       "        [2, 8]]),\n",
       " array([[8, 6],\n",
       "        [0, 7]]),\n",
       " array([[3, 2],\n",
       "        [5, 8]]),\n",
       " array([[2, 9],\n",
       "        [5, 4]]),\n",
       " array([[4, 6],\n",
       "        [2, 4]])]"
      ]
     },
     "execution_count": 14,
     "metadata": {},
     "output_type": "execute_result"
    }
   ],
   "source": [
    "ss_arr_5 = np.random.randint(10, size=(2, 10))\n",
    "print(f\"ss_arr_5:\\n {ss_arr_5}\")\n",
    "np.hsplit(ss_arr_5, 5)"
   ]
  },
  {
   "cell_type": "code",
   "execution_count": 15,
   "metadata": {},
   "outputs": [
    {
     "data": {
      "text/plain": [
       "[array([[7, 4],\n",
       "        [2, 8]]),\n",
       " array([[8, 6],\n",
       "        [0, 7]]),\n",
       " array([[3, 2, 2, 9, 4, 6],\n",
       "        [5, 8, 5, 4, 2, 4]])]"
      ]
     },
     "execution_count": 15,
     "metadata": {},
     "output_type": "execute_result"
    }
   ],
   "source": [
    "np.hsplit(ss_arr_5, (2, 4))"
   ]
  },
  {
   "cell_type": "code",
   "execution_count": null,
   "metadata": {},
   "outputs": [],
   "source": []
  }
 ],
 "metadata": {
  "kernelspec": {
   "display_name": "env",
   "language": "python",
   "name": "python3"
  },
  "language_info": {
   "codemirror_mode": {
    "name": "ipython",
    "version": 3
   },
   "file_extension": ".py",
   "mimetype": "text/x-python",
   "name": "python",
   "nbconvert_exporter": "python",
   "pygments_lexer": "ipython3",
   "version": "3.10.10"
  }
 },
 "nbformat": 4,
 "nbformat_minor": 2
}
