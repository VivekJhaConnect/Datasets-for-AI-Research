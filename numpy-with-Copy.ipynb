{
 "cells": [
  {
   "cell_type": "code",
   "execution_count": 1,
   "metadata": {},
   "outputs": [],
   "source": [
    "import numpy as np"
   ]
  },
  {
   "cell_type": "markdown",
   "metadata": {},
   "source": [
    "## Numpy vs Lists"
   ]
  },
  {
   "cell_type": "code",
   "execution_count": null,
   "metadata": {},
   "outputs": [],
   "source": [
    "height = [74, 75, 72, 71]"
   ]
  },
  {
   "cell_type": "code",
   "execution_count": 3,
   "metadata": {},
   "outputs": [
    {
     "name": "stdout",
     "output_type": "stream",
     "text": [
      "cp_arr_1:\n",
      " [[8 1]\n",
      " [3 6]]\n",
      "cp_arr_2:\n",
      " [[8 1]\n",
      " [3 6]]\n"
     ]
    }
   ],
   "source": [
    "cp_arr_1 = np.random.randint(10, size=(2, 2))\n",
    "print(f\"cp_arr_1:\\n {cp_arr_1}\")\n",
    "cp_arr_2 = cp_arr_1\n",
    "print(f\"cp_arr_2:\\n {cp_arr_2}\")"
   ]
  },
  {
   "cell_type": "code",
   "execution_count": 5,
   "metadata": {},
   "outputs": [
    {
     "name": "stdout",
     "output_type": "stream",
     "text": [
      "cp_arr_1:\n",
      " [[2 1]\n",
      " [3 6]]\n",
      "cp_arr_2:\n",
      " [[2 1]\n",
      " [3 6]]\n"
     ]
    }
   ],
   "source": [
    "# If we can change anything in object then, that's change will reflect into other object as welll\n",
    "cp_arr_1[0,0] = 2\n",
    "print(f\"cp_arr_1:\\n {cp_arr_1}\")\n",
    "print(f\"cp_arr_2:\\n {cp_arr_2}\")"
   ]
  },
  {
   "cell_type": "code",
   "execution_count": 6,
   "metadata": {},
   "outputs": [
    {
     "name": "stdout",
     "output_type": "stream",
     "text": [
      "cp_arr_2:\n",
      " [[2 1]\n",
      " [3 6]]\n"
     ]
    }
   ],
   "source": [
    "cp_arr_3 = cp_arr_1.view()\n",
    "cp_arr_3.flatten('F')\n",
    "print(f\"cp_arr_2:\\n {cp_arr_2}\")"
   ]
  },
  {
   "cell_type": "code",
   "execution_count": 7,
   "metadata": {},
   "outputs": [
    {
     "name": "stdout",
     "output_type": "stream",
     "text": [
      "cp_arr_4:\n",
      " [[2 1]\n",
      " [3 6]]\n"
     ]
    }
   ],
   "source": [
    "cp_arr_4 = cp_arr_1.copy()\n",
    "print(f\"cp_arr_4:\\n {cp_arr_4}\")"
   ]
  },
  {
   "cell_type": "code",
   "execution_count": 9,
   "metadata": {},
   "outputs": [
    {
     "name": "stdout",
     "output_type": "stream",
     "text": [
      "Both Object are same\n"
     ]
    }
   ],
   "source": [
    "if cp_arr_1 is cp_arr_2:\n",
    "    print(\"Both Object are same\")\n",
    "else:\n",
    "    print(\"Both object are not same\")"
   ]
  },
  {
   "cell_type": "code",
   "execution_count": 10,
   "metadata": {},
   "outputs": [
    {
     "name": "stdout",
     "output_type": "stream",
     "text": [
      "Both object are not same\n"
     ]
    }
   ],
   "source": [
    "if cp_arr_1 is cp_arr_4:\n",
    "    print(\"Both Object are same\")\n",
    "else:\n",
    "    print(\"Both object are not same\")"
   ]
  },
  {
   "cell_type": "code",
   "execution_count": null,
   "metadata": {},
   "outputs": [],
   "source": []
  }
 ],
 "metadata": {
  "kernelspec": {
   "display_name": "env",
   "language": "python",
   "name": "python3"
  },
  "language_info": {
   "codemirror_mode": {
    "name": "ipython",
    "version": 3
   },
   "file_extension": ".py",
   "mimetype": "text/x-python",
   "name": "python",
   "nbconvert_exporter": "python",
   "pygments_lexer": "ipython3",
   "version": "3.10.10"
  }
 },
 "nbformat": 4,
 "nbformat_minor": 2
}
