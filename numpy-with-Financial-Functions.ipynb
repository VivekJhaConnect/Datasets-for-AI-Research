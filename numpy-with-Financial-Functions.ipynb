{
 "cells": [
  {
   "cell_type": "code",
   "execution_count": 1,
   "metadata": {},
   "outputs": [],
   "source": [
    "import numpy as np\n",
    "import numpy_financial as npf"
   ]
  },
  {
   "cell_type": "code",
   "execution_count": 3,
   "metadata": {},
   "outputs": [
    {
     "data": {
      "text/plain": [
       "74066.27016650053"
      ]
     },
     "execution_count": 3,
     "metadata": {},
     "output_type": "execute_result"
    }
   ],
   "source": [
    "npf.fv(.08/12, 10*12, -400, -400)"
   ]
  },
  {
   "cell_type": "code",
   "execution_count": 4,
   "metadata": {},
   "outputs": [
    {
     "name": "stdout",
     "output_type": "stream",
     "text": [
      "1 -239.58 -23.12 2760.42\n",
      "2 -241.42 -21.28 2519.0\n",
      "3 -243.29 -19.42 2275.71\n",
      "4 -245.16 -17.54 2030.55\n",
      "5 -247.05 -15.65 1783.5\n",
      "6 -248.95 -13.75 1534.55\n",
      "7 -250.87 -11.83 1283.67\n",
      "8 -252.81 -9.89 1030.87\n",
      "9 -254.76 -7.95 776.11\n",
      "10 -256.72 -5.98 519.39\n",
      "11 -258.7 -4.0 260.69\n",
      "12 -260.69 -2.01 0.0\n"
     ]
    }
   ],
   "source": [
    "period = np.arange(1*12) + 1\n",
    "principle = 3000.00\n",
    "ipmt = npf.ipmt(0.0925/12, period, 1*12, principle)\n",
    "ppmt = npf.ppmt(0.0925/12, period, 1*12, principle)\n",
    "\n",
    "for payment in period:\n",
    "    index = payment -1\n",
    "    principle =principle + ppmt[index]\n",
    "    print(f\"{payment} {np.round(ppmt[index], 2)} {np.round(ipmt[index], 2)} {np.round(principle, 2)}\")"
   ]
  },
  {
   "cell_type": "code",
   "execution_count": 5,
   "metadata": {},
   "outputs": [
    {
     "data": {
      "text/plain": [
       "21.8"
      ]
     },
     "execution_count": 5,
     "metadata": {},
     "output_type": "execute_result"
    }
   ],
   "source": [
    "np.round(npf.nper(0.0925/12, -150, 3000.00), 2)"
   ]
  },
  {
   "cell_type": "code",
   "execution_count": 6,
   "metadata": {},
   "outputs": [
    {
     "data": {
      "text/plain": [
       "49205.480947085365"
      ]
     },
     "execution_count": 6,
     "metadata": {},
     "output_type": "execute_result"
    }
   ],
   "source": [
    "npf.npv(0.08, [-15000, 4000, 5000, 6000, 70000])"
   ]
  },
  {
   "cell_type": "code",
   "execution_count": null,
   "metadata": {},
   "outputs": [],
   "source": []
  }
 ],
 "metadata": {
  "kernelspec": {
   "display_name": "env",
   "language": "python",
   "name": "python3"
  },
  "language_info": {
   "codemirror_mode": {
    "name": "ipython",
    "version": 3
   },
   "file_extension": ".py",
   "mimetype": "text/x-python",
   "name": "python",
   "nbconvert_exporter": "python",
   "pygments_lexer": "ipython3",
   "version": "3.10.10"
  }
 },
 "nbformat": 4,
 "nbformat_minor": 2
}
